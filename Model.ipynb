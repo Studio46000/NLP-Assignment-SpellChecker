{
 "cells": [
  {
   "cell_type": "code",
   "execution_count": 5,
   "metadata": {},
   "outputs": [
    {
     "name": "stdout",
     "output_type": "stream",
     "text": [
      "                                               Error  \\\n",
      "0  Organic chemistry - Computer programming - Com...   \n",
      "1  Organic chemistry - Computer programming - Com...   \n",
      "2  The Wikimedia Free Textbook Project is a subse...   \n",
      "3                                     Sister Wikis .   \n",
      "4  Math and sciences : - Organic chemistry - Cell...   \n",
      "\n",
      "                                             Correct  \n",
      "0  Organic chemistry - Computer programming - Com...  \n",
      "1  Organic chemistry - Computer programming - Com...  \n",
      "2  The Wikimedia Free Textbook Project is a subse...  \n",
      "3                                   Sister Project .  \n",
      "4  Math and sciences : - Organic chemistry - Cell...  \n"
     ]
    }
   ],
   "source": [
    "import pandas as pd\n",
    "\n",
    "# Load the CSV file containing the erroneous and corrected sentences\n",
    "file_path = r'C:\\Users\\User\\Desktop\\Assighments\\Semester_2\\NLP\\wiked_error_correction.csv'  # Update this with the actual path\n",
    "df = pd.read_csv(file_path)\n",
    "\n",
    "# Display the first few rows to ensure the data is loaded correctly\n",
    "print(df.head())"
   ]
  },
  {
   "cell_type": "code",
   "execution_count": null,
   "metadata": {},
   "outputs": [],
   "source": [
    "from tensorflow.keras.preprocessing.text import Tokenizer\n",
    "from tensorflow.keras.preprocessing.sequence import pad_sequences\n",
    "import numpy as np\n",
    "\n",
    "# Tokenization parameters\n",
    "MAX_LENGTH = 50  # Maximum length of sequences\n",
    "VOCAB_SIZE = 500  # Vocabulary size\n",
    "\n",
    "# Extract erroneous and corrected sentences\n",
    "erroneous_sentences = df['Error'].tolist()\n",
    "corrected_sentences = df['Correct'].tolist()\n",
    "\n",
    "# Initialize the tokenizer\n",
    "tokenizer = Tokenizer(num_words=VOCAB_SIZE, oov_token=\"<OOV>\")\n",
    "tokenizer.fit_on_texts(erroneous_sentences + corrected_sentences)\n",
    "\n",
    "# Convert the sentences into sequences of integers\n",
    "error_sequences = tokenizer.texts_to_sequences(erroneous_sentences)\n",
    "correct_sequences = tokenizer.texts_to_sequences(corrected_sentences)\n",
    "\n",
    "# Pad the sequences to ensure they have the same length\n",
    "X_error = pad_sequences(error_sequences, maxlen=MAX_LENGTH, padding='post')\n",
    "X_correct = pad_sequences(correct_sequences, maxlen=MAX_LENGTH, padding='post')\n",
    "\n",
    "# Create labels: 1 for error, 0 for correct\n",
    "y_error = [1] * len(X_error)\n",
    "y_correct = [0] * len(X_correct)\n",
    "\n",
    "# Combine the datasets\n",
    "X = np.vstack((X_error, X_correct))\n",
    "y = np.hstack((y_error, y_correct))\n",
    "\n",
    "# Shuffle the data\n",
    "from sklearn.utils import shuffle\n",
    "X, y = shuffle(X, y, random_state=42)\n",
    "\n",
    "# Display the shape of the processed data\n",
    "print(f\"Data shape: {X.shape}, Labels shape: {y.shape}\")\n"
   ]
  }
 ],
 "metadata": {
  "kernelspec": {
   "display_name": "Python 3",
   "language": "python",
   "name": "python3"
  },
  "language_info": {
   "codemirror_mode": {
    "name": "ipython",
    "version": 3
   },
   "file_extension": ".py",
   "mimetype": "text/x-python",
   "name": "python",
   "nbconvert_exporter": "python",
   "pygments_lexer": "ipython3",
   "version": "3.12.2"
  }
 },
 "nbformat": 4,
 "nbformat_minor": 2
}
